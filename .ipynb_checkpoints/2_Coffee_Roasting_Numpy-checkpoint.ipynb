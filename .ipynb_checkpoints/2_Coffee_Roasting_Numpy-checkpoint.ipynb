{
 "cells": [
  {
   "cell_type": "markdown",
   "id": "f0acf7bb",
   "metadata": {},
   "source": [
    "# Implementing the same Coffee Roasting NN but with Numpy"
   ]
  },
  {
   "cell_type": "markdown",
   "id": "9725a98e",
   "metadata": {},
   "source": [
    "<center> <img  src=\"C2_W1_RoastingNetwork.PNG\" width=\"200\" />   <center/>  "
   ]
  },
  {
   "cell_type": "markdown",
   "id": "a654394d",
   "metadata": {},
   "source": [
    "Above is the neural network that we are trying to implement"
   ]
  },
  {
   "cell_type": "code",
   "execution_count": 1,
   "id": "77bd7b59",
   "metadata": {},
   "outputs": [],
   "source": [
    "import numpy as np"
   ]
  },
  {
   "cell_type": "code",
   "execution_count": 2,
   "id": "67c05727",
   "metadata": {},
   "outputs": [],
   "source": [
    "#Let prepare just a single datavalue.\n",
    "X=np.array([17,35])"
   ]
  },
  {
   "cell_type": "code",
   "execution_count": 3,
   "id": "bc99a39e",
   "metadata": {},
   "outputs": [],
   "source": [
    "#Now we already know that this is a 2 featured database. Though we also know the layers that we are implementing. Lets select\n",
    "#the weights and the bais concurrently.\n",
    "\n",
    "#First lets do it for layer 1\n",
    "w1_1=np.array([2,1]) #W1_1 corresponds to weight of first nueron of first hidden layer.\n",
    "w2_1=np.array([-2,4])\n",
    "w3_1=np.array([0,-1])\n",
    "\n",
    "b1_1=7\n",
    "b2_1=-5\n",
    "b3_1=9\n",
    "\n",
    "#First lets do it for layer 2\n",
    "w1_2=np.array([1,-4,3]) \n",
    "\n",
    "b1_2=2"
   ]
  },
  {
   "cell_type": "markdown",
   "id": "29aa6067",
   "metadata": {},
   "source": [
    "What is important to note above is how we are working with 1-D arrays inplace of matrix. Something that we didnt observe in case of tensorFlow, as matrix is the basic implementation part there."
   ]
  },
  {
   "cell_type": "code",
   "execution_count": 4,
   "id": "a2b3695d",
   "metadata": {},
   "outputs": [],
   "source": [
    "#Lets write code for activation value for each neuron and then form a vector out of it\n",
    "\n",
    "def sigmoids(z):\n",
    "    return((1/(1+np.exp(-z))))\n",
    "\n",
    "\n",
    "a1=sigmoids(np.dot(w1_1,X)+b1_1)\n",
    "a2=sigmoids(np.dot(w2_1,X)+b2_1)\n",
    "a3=sigmoids(np.dot(w3_1,X)+b3_1)\n",
    "           \n",
    "#Lets now form a vector out of the 3 activation values obtained\n",
    "a_1=np.array([a1,a2,a3])"
   ]
  },
  {
   "cell_type": "code",
   "execution_count": 5,
   "id": "7924996b",
   "metadata": {},
   "outputs": [],
   "source": [
    "#Now lets write the code for activation value for layer 2\n",
    "def sigmoids(z):\n",
    "    return((1/(1+np.exp(-z))))\n",
    "\n",
    "a=sigmoids(np.dot(w1_2,a_1)+b1_2)"
   ]
  },
  {
   "cell_type": "code",
   "execution_count": 6,
   "id": "892d1e77",
   "metadata": {},
   "outputs": [
    {
     "name": "stdout",
     "output_type": "stream",
     "text": [
      "Bad Coffee\n"
     ]
    }
   ],
   "source": [
    "#Let check whether the coffee is good or not\n",
    "if(a>0.5):\n",
    "    print(\"Good Coffee\")\n",
    "\n",
    "else:\n",
    "    print(\"Bad Coffee\")"
   ]
  }
 ],
 "metadata": {
  "kernelspec": {
   "display_name": "Python 3 (ipykernel)",
   "language": "python",
   "name": "python3"
  },
  "language_info": {
   "codemirror_mode": {
    "name": "ipython",
    "version": 3
   },
   "file_extension": ".py",
   "mimetype": "text/x-python",
   "name": "python",
   "nbconvert_exporter": "python",
   "pygments_lexer": "ipython3",
   "version": "3.9.13"
  }
 },
 "nbformat": 4,
 "nbformat_minor": 5
}
